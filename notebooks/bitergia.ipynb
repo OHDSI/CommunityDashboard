{
 "cells": [
  {
   "attachments": {},
   "cell_type": "markdown",
   "metadata": {},
   "source": [
    "baseed on https://colab.research.google.com/drive/1a02rFhmkW4GbD2DJJj4KGC8X4a6Q5-LN?usp=share_link#scrollTo=GhA9YkX7TP2N"
   ]
  },
  {
   "cell_type": "code",
   "execution_count": 1,
   "metadata": {},
   "outputs": [
    {
     "name": "stdout",
     "output_type": "stream",
     "text": [
      "Requirement already satisfied: certifi in /home/n8/CommunityDashboard/.venv/lib64/python3.11/site-packages (2023.5.7)\n",
      "Note: you may need to restart the kernel to use updated packages.\n",
      "Requirement already satisfied: pandas in /home/n8/CommunityDashboard/.venv/lib64/python3.11/site-packages (2.0.3)\n",
      "Requirement already satisfied: python-dateutil>=2.8.2 in /home/n8/CommunityDashboard/.venv/lib64/python3.11/site-packages (from pandas) (2.8.2)\n",
      "Requirement already satisfied: pytz>=2020.1 in /home/n8/CommunityDashboard/.venv/lib64/python3.11/site-packages (from pandas) (2023.3)\n",
      "Requirement already satisfied: tzdata>=2022.1 in /home/n8/CommunityDashboard/.venv/lib64/python3.11/site-packages (from pandas) (2023.3)\n",
      "Requirement already satisfied: numpy>=1.21.0 in /home/n8/CommunityDashboard/.venv/lib64/python3.11/site-packages (from pandas) (1.25.0)\n",
      "Requirement already satisfied: six>=1.5 in /home/n8/CommunityDashboard/.venv/lib64/python3.11/site-packages (from python-dateutil>=2.8.2->pandas) (1.16.0)\n",
      "Note: you may need to restart the kernel to use updated packages.\n",
      "Requirement already satisfied: elasticsearch==6.3.1 in /home/n8/CommunityDashboard/.venv/lib64/python3.11/site-packages (6.3.1)\n",
      "Requirement already satisfied: urllib3>=1.21.1 in /home/n8/CommunityDashboard/.venv/lib64/python3.11/site-packages (from elasticsearch==6.3.1) (2.0.3)\n",
      "Note: you may need to restart the kernel to use updated packages.\n"
     ]
    }
   ],
   "source": [
    "%pip install certifi\n",
    "import certifi\n",
    "import configparser\n",
    "\n",
    "from datetime import datetime\n",
    "\n",
    "%pip install pandas\n",
    "import numpy as np\n",
    "import pandas as pd\n",
    "\n",
    "%pip install elasticsearch==6.3.1\n",
    "from elasticsearch import Elasticsearch,  RequestsHttpConnection\n",
    "\n",
    "def SimpleESConnection(host, port, path):\n",
    "\n",
    "    connection = \"https://\" + host + \":\" + port + \"/\" + path\n",
    "\n",
    "    es_read = Elasticsearch([connection], use_ssl=True, verity_certs=True,\n",
    "                            ca_cert=certifi.where(), scroll='300m', \n",
    "                            timeout=1000)\n",
    "\n",
    "    return es_read\n",
    "    \n",
    "def AuthESConnection(user, password, host, port, path):\n",
    "    if port:\n",
    "      connection = \"https://\" + user + \":\" + password + \"@\" + host + \":\" + port \\\n",
    "                + \"/\" + path\n",
    "    else:\n",
    "      connection = \"https://\" + user + \":\" + password + \"@\" + host + \"/\" + path\n",
    "\n",
    "    es_read = Elasticsearch([connection], use_ssl=True, verity_certs=True,\n",
    "                            ca_cert=certifi.where(), scroll='300m', \n",
    "                            timeout=1000)\n",
    "\n",
    "    return es_read"
   ]
  },
  {
   "cell_type": "code",
   "execution_count": 2,
   "metadata": {},
   "outputs": [],
   "source": [
    "from getpass import getpass\n",
    "\n",
    "host = input('Enter BAP host (like \"jhu.biterg.io\") and hit Enter: ')\n",
    "user = getpass('Enter ES user and hit Enter: ')\n",
    "password = getpass('Enter ES password and hit Enter: ')\n",
    "\n",
    "port = '' # '443'\n",
    "path = 'data'\n",
    "\n",
    "es_read = AuthESConnection(user, password, host, port, path)"
   ]
  },
  {
   "cell_type": "code",
   "execution_count": 3,
   "metadata": {},
   "outputs": [
    {
     "name": "stderr",
     "output_type": "stream",
     "text": [
      "GET https://jhu.biterg.io:443/data/ [status:403 request:0.245s]\n"
     ]
    },
    {
     "ename": "AuthorizationException",
     "evalue": "AuthorizationException(403, 'security_exception', 'no permissions for [cluster:monitor/main] and User [name=nathan, roles=[kibanauser, readall], requestedTenant=null]')",
     "output_type": "error",
     "traceback": [
      "\u001b[0;31m---------------------------------------------------------------------------\u001b[0m",
      "\u001b[0;31mAuthorizationException\u001b[0m                    Traceback (most recent call last)",
      "Cell \u001b[0;32mIn[3], line 1\u001b[0m\n\u001b[0;32m----> 1\u001b[0m es_read\u001b[39m.\u001b[39;49minfo()\n",
      "File \u001b[0;32m~/CommunityDashboard/.venv/lib64/python3.11/site-packages/elasticsearch/client/utils.py:76\u001b[0m, in \u001b[0;36mquery_params.<locals>._wrapper.<locals>._wrapped\u001b[0;34m(*args, **kwargs)\u001b[0m\n\u001b[1;32m     74\u001b[0m     \u001b[39mif\u001b[39;00m p \u001b[39min\u001b[39;00m kwargs:\n\u001b[1;32m     75\u001b[0m         params[p] \u001b[39m=\u001b[39m kwargs\u001b[39m.\u001b[39mpop(p)\n\u001b[0;32m---> 76\u001b[0m \u001b[39mreturn\u001b[39;00m func(\u001b[39m*\u001b[39;49margs, params\u001b[39m=\u001b[39;49mparams, \u001b[39m*\u001b[39;49m\u001b[39m*\u001b[39;49mkwargs)\n",
      "File \u001b[0;32m~/CommunityDashboard/.venv/lib64/python3.11/site-packages/elasticsearch/client/__init__.py:241\u001b[0m, in \u001b[0;36mElasticsearch.info\u001b[0;34m(self, params)\u001b[0m\n\u001b[1;32m    235\u001b[0m \u001b[39m@query_params\u001b[39m()\n\u001b[1;32m    236\u001b[0m \u001b[39mdef\u001b[39;00m \u001b[39minfo\u001b[39m(\u001b[39mself\u001b[39m, params\u001b[39m=\u001b[39m\u001b[39mNone\u001b[39;00m):\n\u001b[1;32m    237\u001b[0m \u001b[39m    \u001b[39m\u001b[39m\"\"\"\u001b[39;00m\n\u001b[1;32m    238\u001b[0m \u001b[39m    Get the basic info from the current cluster.\u001b[39;00m\n\u001b[1;32m    239\u001b[0m \u001b[39m    `<http://www.elastic.co/guide/>`_\u001b[39;00m\n\u001b[1;32m    240\u001b[0m \u001b[39m    \"\"\"\u001b[39;00m\n\u001b[0;32m--> 241\u001b[0m     \u001b[39mreturn\u001b[39;00m \u001b[39mself\u001b[39;49m\u001b[39m.\u001b[39;49mtransport\u001b[39m.\u001b[39;49mperform_request(\u001b[39m'\u001b[39;49m\u001b[39mGET\u001b[39;49m\u001b[39m'\u001b[39;49m, \u001b[39m'\u001b[39;49m\u001b[39m/\u001b[39;49m\u001b[39m'\u001b[39;49m, params\u001b[39m=\u001b[39;49mparams)\n",
      "File \u001b[0;32m~/CommunityDashboard/.venv/lib64/python3.11/site-packages/elasticsearch/transport.py:318\u001b[0m, in \u001b[0;36mTransport.perform_request\u001b[0;34m(self, method, url, headers, params, body)\u001b[0m\n\u001b[1;32m    316\u001b[0m     delay \u001b[39m=\u001b[39m \u001b[39m2\u001b[39m\u001b[39m*\u001b[39m\u001b[39m*\u001b[39mattempt \u001b[39m-\u001b[39m \u001b[39m1\u001b[39m\n\u001b[1;32m    317\u001b[0m     time\u001b[39m.\u001b[39msleep(delay)\n\u001b[0;32m--> 318\u001b[0m     status, headers_response, data \u001b[39m=\u001b[39m connection\u001b[39m.\u001b[39;49mperform_request(method, url, params, body, headers\u001b[39m=\u001b[39;49mheaders, ignore\u001b[39m=\u001b[39;49mignore, timeout\u001b[39m=\u001b[39;49mtimeout)\n\u001b[1;32m    320\u001b[0m \u001b[39mexcept\u001b[39;00m TransportError \u001b[39mas\u001b[39;00m e:\n\u001b[1;32m    321\u001b[0m     \u001b[39mif\u001b[39;00m method \u001b[39m==\u001b[39m \u001b[39m'\u001b[39m\u001b[39mHEAD\u001b[39m\u001b[39m'\u001b[39m \u001b[39mand\u001b[39;00m e\u001b[39m.\u001b[39mstatus_code \u001b[39m==\u001b[39m \u001b[39m404\u001b[39m:\n",
      "File \u001b[0;32m~/CommunityDashboard/.venv/lib64/python3.11/site-packages/elasticsearch/connection/http_urllib3.py:186\u001b[0m, in \u001b[0;36mUrllib3HttpConnection.perform_request\u001b[0;34m(self, method, url, params, body, timeout, ignore, headers)\u001b[0m\n\u001b[1;32m    184\u001b[0m \u001b[39mif\u001b[39;00m \u001b[39mnot\u001b[39;00m (\u001b[39m200\u001b[39m \u001b[39m<\u001b[39m\u001b[39m=\u001b[39m response\u001b[39m.\u001b[39mstatus \u001b[39m<\u001b[39m \u001b[39m300\u001b[39m) \u001b[39mand\u001b[39;00m response\u001b[39m.\u001b[39mstatus \u001b[39mnot\u001b[39;00m \u001b[39min\u001b[39;00m ignore:\n\u001b[1;32m    185\u001b[0m     \u001b[39mself\u001b[39m\u001b[39m.\u001b[39mlog_request_fail(method, full_url, url, body, duration, response\u001b[39m.\u001b[39mstatus, raw_data)\n\u001b[0;32m--> 186\u001b[0m     \u001b[39mself\u001b[39;49m\u001b[39m.\u001b[39;49m_raise_error(response\u001b[39m.\u001b[39;49mstatus, raw_data)\n\u001b[1;32m    188\u001b[0m \u001b[39mself\u001b[39m\u001b[39m.\u001b[39mlog_request_success(method, full_url, url, body, response\u001b[39m.\u001b[39mstatus,\n\u001b[1;32m    189\u001b[0m     raw_data, duration)\n\u001b[1;32m    191\u001b[0m \u001b[39mreturn\u001b[39;00m response\u001b[39m.\u001b[39mstatus, response\u001b[39m.\u001b[39mgetheaders(), raw_data\n",
      "File \u001b[0;32m~/CommunityDashboard/.venv/lib64/python3.11/site-packages/elasticsearch/connection/base.py:125\u001b[0m, in \u001b[0;36mConnection._raise_error\u001b[0;34m(self, status_code, raw_data)\u001b[0m\n\u001b[1;32m    122\u001b[0m \u001b[39mexcept\u001b[39;00m (\u001b[39mValueError\u001b[39;00m, \u001b[39mTypeError\u001b[39;00m) \u001b[39mas\u001b[39;00m err:\n\u001b[1;32m    123\u001b[0m     logger\u001b[39m.\u001b[39mwarning(\u001b[39m'\u001b[39m\u001b[39mUndecodable raw error response from server: \u001b[39m\u001b[39m%s\u001b[39;00m\u001b[39m'\u001b[39m, err)\n\u001b[0;32m--> 125\u001b[0m \u001b[39mraise\u001b[39;00m HTTP_EXCEPTIONS\u001b[39m.\u001b[39mget(status_code, TransportError)(status_code, error_message, additional_info)\n",
      "\u001b[0;31mAuthorizationException\u001b[0m: AuthorizationException(403, 'security_exception', 'no permissions for [cluster:monitor/main] and User [name=nathan, roles=[kibanauser, readall], requestedTenant=null]')"
     ]
    }
   ],
   "source": [
    "es_read.info()"
   ]
  }
 ],
 "metadata": {
  "kernelspec": {
   "display_name": ".venv",
   "language": "python",
   "name": "python3"
  },
  "language_info": {
   "codemirror_mode": {
    "name": "ipython",
    "version": 3
   },
   "file_extension": ".py",
   "mimetype": "text/x-python",
   "name": "python",
   "nbconvert_exporter": "python",
   "pygments_lexer": "ipython3",
   "version": "3.11.3"
  },
  "orig_nbformat": 4
 },
 "nbformat": 4,
 "nbformat_minor": 2
}
